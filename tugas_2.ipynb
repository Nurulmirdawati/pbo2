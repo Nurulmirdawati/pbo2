{
  "nbformat": 4,
  "nbformat_minor": 0,
  "metadata": {
    "colab": {
      "provenance": [],
      "authorship_tag": "ABX9TyPL2SXq4CjYki7FH/IQoAZc",
      "include_colab_link": true
    },
    "kernelspec": {
      "name": "python3",
      "display_name": "Python 3"
    },
    "language_info": {
      "name": "python"
    }
  },
  "cells": [
    {
      "cell_type": "markdown",
      "metadata": {
        "id": "view-in-github",
        "colab_type": "text"
      },
      "source": [
        "<a href=\"https://colab.research.google.com/github/Nurulmirdawati/pbo2/blob/main/tugas_2.ipynb\" target=\"_parent\"><img src=\"https://colab.research.google.com/assets/colab-badge.svg\" alt=\"Open In Colab\"/></a>"
      ]
    },
    {
      "cell_type": "markdown",
      "source": [
        "**Kelas Pertama: Mahasiwa**"
      ],
      "metadata": {
        "id": "x8dhUFmyjZP8"
      }
    },
    {
      "cell_type": "code",
      "source": [
        "class Mahasiswa:\n",
        "    def __init__(self, nama, nim):\n",
        "        self.nama = nama\n",
        "        self.nim = nim\n",
        "\n",
        "    def cetak_krs(self):\n",
        "        print(f\"Mahasiswa {self.nama} dengan NIM {self.nim} telah mencetak KRS.\")\n",
        "\n",
        "## Objek Mahasiswa\n",
        "mhs = Mahasiswa(\"nurul\", \"220705027\")\n",
        "mhs.cetak_krs()"
      ],
      "metadata": {
        "colab": {
          "base_uri": "https://localhost:8080/"
        },
        "id": "Md4wC0Yzi1AZ",
        "outputId": "a48d9a48-008c-4dde-fe60-a6a32b2f304f"
      },
      "execution_count": 11,
      "outputs": [
        {
          "output_type": "stream",
          "name": "stdout",
          "text": [
            "Mahasiswa nurul dengan NIM 220705027 telah mencetak KRS.\n"
          ]
        }
      ]
    },
    {
      "cell_type": "markdown",
      "source": [
        "**Kelas Kedua: Lingkaran**"
      ],
      "metadata": {
        "id": "Apf2lXp6joF2"
      }
    },
    {
      "cell_type": "code",
      "source": [
        "class Lingkaran:\n",
        "    def __init__(self, radius):\n",
        "        self.radius = radius\n",
        "\n",
        "    def hitung_luas(self):\n",
        "        return 6.10 * self.radius ** 2\n",
        "\n",
        "## Objek Lingkaran\n",
        "blt = Lingkaran(12)\n",
        "print(f\"Luas lingkaran: {blt.hitung_luas()}\")"
      ],
      "metadata": {
        "colab": {
          "base_uri": "https://localhost:8080/"
        },
        "id": "NMyxSSEtjDnd",
        "outputId": "6641afd1-835e-46c1-8023-4b5a85db1baa"
      },
      "execution_count": 12,
      "outputs": [
        {
          "output_type": "stream",
          "name": "stdout",
          "text": [
            "Luas lingkaran: 878.4\n"
          ]
        }
      ]
    },
    {
      "cell_type": "markdown",
      "source": [
        "**Kelas Ketiga: Mobil**"
      ],
      "metadata": {
        "id": "lwbupytNj-y6"
      }
    },
    {
      "cell_type": "code",
      "source": [
        "class Mobil:\n",
        "    def __init__(self, merk, tahun):\n",
        "        self.merk = merk\n",
        "        self.tahun = tahun\n",
        "\n",
        "    def info_mobil(self):\n",
        "        print(f\"Mobil {self.merk} keluaran tahun {self.tahun}.\")\n",
        "\n",
        "## Objek Mobil\n",
        "avanza = Mobil(\"honda crv \", 2024)\n",
        "avanza.info_mobil()"
      ],
      "metadata": {
        "colab": {
          "base_uri": "https://localhost:8080/"
        },
        "id": "Xp5OM445jAvl",
        "outputId": "72c5af8b-5acf-40cb-e1ee-a00756d57b81"
      },
      "execution_count": 14,
      "outputs": [
        {
          "output_type": "stream",
          "name": "stdout",
          "text": [
            "Mobil honda crv  keluaran tahun 2024.\n"
          ]
        }
      ]
    },
    {
      "cell_type": "markdown",
      "source": [
        "**Kelas Keempat: Buku**"
      ],
      "metadata": {
        "id": "T8v3v9ddkRWU"
      }
    },
    {
      "cell_type": "code",
      "source": [
        "class Buku:\n",
        "    def __init__(self, judul, penulis):\n",
        "        self.judul = judul\n",
        "        self.penulis = penulis\n",
        "\n",
        "    def deskripsi(self):\n",
        "        print(f\"Buku '{self.judul}' ditulis oleh {self.penulis}.\")\n",
        "\n",
        "## Objek Buku\n",
        "buku1 = Buku(\"Architecture of Love\", \"ika natassa\")\n",
        "buku1.deskripsi()"
      ],
      "metadata": {
        "colab": {
          "base_uri": "https://localhost:8080/"
        },
        "id": "awolo1Wrkavl",
        "outputId": "b041f03a-524c-42b2-cdd9-84a09eda4f23"
      },
      "execution_count": 16,
      "outputs": [
        {
          "output_type": "stream",
          "name": "stdout",
          "text": [
            "Buku 'Architecture of Love' ditulis oleh ika natassa.\n"
          ]
        }
      ]
    },
    {
      "cell_type": "markdown",
      "source": [
        "**Kelas Kelima: Laptop**"
      ],
      "metadata": {
        "id": "a2mBrIy0nYj7"
      }
    },
    {
      "cell_type": "code",
      "source": [
        "class Laptop:\n",
        "    def __init__(self, merk, harga):\n",
        "        self.merk = merk\n",
        "        self.harga = harga\n",
        "\n",
        "    def spesifikasi(self):\n",
        "        print(f\"Laptop {self.merk} memiliki harga Rp{self.harga:,}.\")\n",
        "\n",
        "## Objek Laptop\n",
        "laptop1 = Laptop(\"lenovo thinkpad\", 15000000)\n",
        "laptop1.spesifikasi()"
      ],
      "metadata": {
        "colab": {
          "base_uri": "https://localhost:8080/"
        },
        "id": "dWu-zxqOndP6",
        "outputId": "f6866241-5d10-4f7c-b6ea-df82ce4d2ae8"
      },
      "execution_count": 17,
      "outputs": [
        {
          "output_type": "stream",
          "name": "stdout",
          "text": [
            "Laptop lenovo thinkpad memiliki harga Rp15,000,000.\n"
          ]
        }
      ]
    }
  ]
}